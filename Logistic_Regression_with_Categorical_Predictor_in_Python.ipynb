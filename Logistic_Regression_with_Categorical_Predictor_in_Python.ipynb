{
  "cells": [
    {
      "cell_type": "markdown",
      "metadata": {
        "id": "T8q1i2HO8X-6"
      },
      "source": [
        "# Logistic Regression with Categorical Predictor in Python"
      ]
    },
    {
      "cell_type": "markdown",
      "metadata": {
        "id": "TvHa4lDI8X-_"
      },
      "source": [
        "## Mohammad Abdul Wahed"
      ]
    },
    {
      "cell_type": "markdown",
      "source": [
        "## Contents\n",
        "\n",
        "\n",
        "*   Objective\n",
        "*   Description of sud.csv Dataset\n",
        "*   Importing Libraries\n",
        "*   Loading Data\n",
        "*   Data preparation(Creating Dummy variables)\n",
        "*   Splitting the data into train and test set using Twinning technique\n",
        "*   Fitting a model using Logistic Regression\n",
        "*   Using the model to predict `admit` using test dataset\n",
        "*   Model evaluation and accuracy"
      ],
      "metadata": {
        "id": "2ZsUfKCYQ79d"
      }
    },
    {
      "cell_type": "markdown",
      "source": [
        "## Objective"
      ],
      "metadata": {
        "id": "ejDktmRdS9L1"
      }
    },
    {
      "cell_type": "markdown",
      "source": [
        "The objective is to develop a logistic regression model that predicts whether a student will get admitted based on gpa, gre score and prestige of institution."
      ],
      "metadata": {
        "id": "yf1cBt0LTAtu"
      }
    },
    {
      "cell_type": "markdown",
      "source": [
        "## Description of sud.csv Dataset"
      ],
      "metadata": {
        "id": "cq_feA8dSs8E"
      }
    },
    {
      "cell_type": "markdown",
      "source": [
        "This dataset has a binary response (outcome, dependent) variable called admit. There are three predictor variables: gre, gpa and rank. We will treat the variables gre and gpa as continuous. The variable rank takes on the values 1 through 4. Institutions with a rank of 1 have the highest prestige, while those with a rank of 4 have the lowest."
      ],
      "metadata": {
        "id": "rrCJNff9SyX9"
      }
    },
    {
      "cell_type": "markdown",
      "source": [
        "## Importing Libraries"
      ],
      "metadata": {
        "id": "kBuJXGfnUVXM"
      }
    },
    {
      "cell_type": "code",
      "execution_count": 24,
      "metadata": {
        "id": "M5HOo0YQ8X_A"
      },
      "outputs": [],
      "source": [
        "# Let's import the required packages\n",
        "import pandas as pd\n",
        "import numpy as np\n",
        "from sklearn.linear_model import LogisticRegression\n",
        "from sklearn.metrics import classification_report\n",
        "from sklearn.metrics import confusion_matrix\n",
        "from sklearn.metrics import f1_score"
      ]
    },
    {
      "cell_type": "markdown",
      "source": [
        "## Loading Data"
      ],
      "metadata": {
        "id": "PfpM-UUoUemE"
      }
    },
    {
      "cell_type": "code",
      "source": [
        "# Load the data using pandas.read_csv()\n",
        "df = pd.read_csv(\"binary.csv\")"
      ],
      "metadata": {
        "id": "x6TnQakvUP79"
      },
      "execution_count": 23,
      "outputs": []
    },
    {
      "cell_type": "code",
      "execution_count": 2,
      "metadata": {
        "id": "mGTXq74E8X_D",
        "outputId": "50af3926-5c16-4328-cb90-abd5594a68aa",
        "colab": {
          "base_uri": "https://localhost:8080/"
        }
      },
      "outputs": [
        {
          "output_type": "stream",
          "name": "stdout",
          "text": [
            "   admit  gre   gpa  rank\n",
            "0      0  380  3.61     3\n",
            "1      1  660  3.67     3\n",
            "2      1  800  4.00     1\n",
            "3      1  640  3.19     4\n",
            "4      0  520  2.93     4\n"
          ]
        }
      ],
      "source": [
        "# Let's inspect the df.head()\n",
        "print(df.head())"
      ]
    },
    {
      "cell_type": "markdown",
      "metadata": {
        "id": "IaXfkebY8X_E"
      },
      "source": [
        "The dataset contains several columns which we use as predictor variables:\n",
        "- `gpa`  \n",
        "- `gre` score  \n",
        "- `rank` or prestige of an applicant's undergraduate alma matter  \n",
        "\n",
        "The column `admit` is our binary target variable"
      ]
    },
    {
      "cell_type": "markdown",
      "metadata": {
        "id": "m-y5RCVt8X_F"
      },
      "source": [
        "The column named `rank` could present a problem since `rank` is also the name of a method belonging to pandas `DataFrame`; Specifically, `rank` calculates the ordered rank (1 through n) of a `DataFrame/Series`. We want to rename our `rank` column to 'prestige'."
      ]
    },
    {
      "cell_type": "code",
      "execution_count": 3,
      "metadata": {
        "id": "-Bw1KBov8X_F",
        "outputId": "73ff0e6c-a875-4057-b161-6a9a9fa27824",
        "colab": {
          "base_uri": "https://localhost:8080/"
        }
      },
      "outputs": [
        {
          "output_type": "stream",
          "name": "stdout",
          "text": [
            "Index(['admit', 'gre', 'gpa', 'prestige'], dtype='object')\n"
          ]
        }
      ],
      "source": [
        "df.columns = [\"admit\", \"gre\", \"gpa\", \"prestige\"]\n",
        "print(df.columns)"
      ]
    },
    {
      "cell_type": "code",
      "execution_count": 4,
      "metadata": {
        "id": "uNgBiIrt8X_H",
        "outputId": "2abf110a-fe9b-4599-f0cc-8d74c6a73552",
        "colab": {
          "base_uri": "https://localhost:8080/",
          "height": 300
        }
      },
      "outputs": [
        {
          "output_type": "execute_result",
          "data": {
            "text/plain": [
              "            admit         gre         gpa   prestige\n",
              "count  400.000000  400.000000  400.000000  400.00000\n",
              "mean     0.317500  587.700000    3.389900    2.48500\n",
              "std      0.466087  115.516536    0.380567    0.94446\n",
              "min      0.000000  220.000000    2.260000    1.00000\n",
              "25%      0.000000  520.000000    3.130000    2.00000\n",
              "50%      0.000000  580.000000    3.395000    2.00000\n",
              "75%      1.000000  660.000000    3.670000    3.00000\n",
              "max      1.000000  800.000000    4.000000    4.00000"
            ],
            "text/html": [
              "\n",
              "  <div id=\"df-6a624f17-0fde-4e98-8fad-deeb50875a2c\">\n",
              "    <div class=\"colab-df-container\">\n",
              "      <div>\n",
              "<style scoped>\n",
              "    .dataframe tbody tr th:only-of-type {\n",
              "        vertical-align: middle;\n",
              "    }\n",
              "\n",
              "    .dataframe tbody tr th {\n",
              "        vertical-align: top;\n",
              "    }\n",
              "\n",
              "    .dataframe thead th {\n",
              "        text-align: right;\n",
              "    }\n",
              "</style>\n",
              "<table border=\"1\" class=\"dataframe\">\n",
              "  <thead>\n",
              "    <tr style=\"text-align: right;\">\n",
              "      <th></th>\n",
              "      <th>admit</th>\n",
              "      <th>gre</th>\n",
              "      <th>gpa</th>\n",
              "      <th>prestige</th>\n",
              "    </tr>\n",
              "  </thead>\n",
              "  <tbody>\n",
              "    <tr>\n",
              "      <th>count</th>\n",
              "      <td>400.000000</td>\n",
              "      <td>400.000000</td>\n",
              "      <td>400.000000</td>\n",
              "      <td>400.00000</td>\n",
              "    </tr>\n",
              "    <tr>\n",
              "      <th>mean</th>\n",
              "      <td>0.317500</td>\n",
              "      <td>587.700000</td>\n",
              "      <td>3.389900</td>\n",
              "      <td>2.48500</td>\n",
              "    </tr>\n",
              "    <tr>\n",
              "      <th>std</th>\n",
              "      <td>0.466087</td>\n",
              "      <td>115.516536</td>\n",
              "      <td>0.380567</td>\n",
              "      <td>0.94446</td>\n",
              "    </tr>\n",
              "    <tr>\n",
              "      <th>min</th>\n",
              "      <td>0.000000</td>\n",
              "      <td>220.000000</td>\n",
              "      <td>2.260000</td>\n",
              "      <td>1.00000</td>\n",
              "    </tr>\n",
              "    <tr>\n",
              "      <th>25%</th>\n",
              "      <td>0.000000</td>\n",
              "      <td>520.000000</td>\n",
              "      <td>3.130000</td>\n",
              "      <td>2.00000</td>\n",
              "    </tr>\n",
              "    <tr>\n",
              "      <th>50%</th>\n",
              "      <td>0.000000</td>\n",
              "      <td>580.000000</td>\n",
              "      <td>3.395000</td>\n",
              "      <td>2.00000</td>\n",
              "    </tr>\n",
              "    <tr>\n",
              "      <th>75%</th>\n",
              "      <td>1.000000</td>\n",
              "      <td>660.000000</td>\n",
              "      <td>3.670000</td>\n",
              "      <td>3.00000</td>\n",
              "    </tr>\n",
              "    <tr>\n",
              "      <th>max</th>\n",
              "      <td>1.000000</td>\n",
              "      <td>800.000000</td>\n",
              "      <td>4.000000</td>\n",
              "      <td>4.00000</td>\n",
              "    </tr>\n",
              "  </tbody>\n",
              "</table>\n",
              "</div>\n",
              "      <button class=\"colab-df-convert\" onclick=\"convertToInteractive('df-6a624f17-0fde-4e98-8fad-deeb50875a2c')\"\n",
              "              title=\"Convert this dataframe to an interactive table.\"\n",
              "              style=\"display:none;\">\n",
              "        \n",
              "  <svg xmlns=\"http://www.w3.org/2000/svg\" height=\"24px\"viewBox=\"0 0 24 24\"\n",
              "       width=\"24px\">\n",
              "    <path d=\"M0 0h24v24H0V0z\" fill=\"none\"/>\n",
              "    <path d=\"M18.56 5.44l.94 2.06.94-2.06 2.06-.94-2.06-.94-.94-2.06-.94 2.06-2.06.94zm-11 1L8.5 8.5l.94-2.06 2.06-.94-2.06-.94L8.5 2.5l-.94 2.06-2.06.94zm10 10l.94 2.06.94-2.06 2.06-.94-2.06-.94-.94-2.06-.94 2.06-2.06.94z\"/><path d=\"M17.41 7.96l-1.37-1.37c-.4-.4-.92-.59-1.43-.59-.52 0-1.04.2-1.43.59L10.3 9.45l-7.72 7.72c-.78.78-.78 2.05 0 2.83L4 21.41c.39.39.9.59 1.41.59.51 0 1.02-.2 1.41-.59l7.78-7.78 2.81-2.81c.8-.78.8-2.07 0-2.86zM5.41 20L4 18.59l7.72-7.72 1.47 1.35L5.41 20z\"/>\n",
              "  </svg>\n",
              "      </button>\n",
              "      \n",
              "  <style>\n",
              "    .colab-df-container {\n",
              "      display:flex;\n",
              "      flex-wrap:wrap;\n",
              "      gap: 12px;\n",
              "    }\n",
              "\n",
              "    .colab-df-convert {\n",
              "      background-color: #E8F0FE;\n",
              "      border: none;\n",
              "      border-radius: 50%;\n",
              "      cursor: pointer;\n",
              "      display: none;\n",
              "      fill: #1967D2;\n",
              "      height: 32px;\n",
              "      padding: 0 0 0 0;\n",
              "      width: 32px;\n",
              "    }\n",
              "\n",
              "    .colab-df-convert:hover {\n",
              "      background-color: #E2EBFA;\n",
              "      box-shadow: 0px 1px 2px rgba(60, 64, 67, 0.3), 0px 1px 3px 1px rgba(60, 64, 67, 0.15);\n",
              "      fill: #174EA6;\n",
              "    }\n",
              "\n",
              "    [theme=dark] .colab-df-convert {\n",
              "      background-color: #3B4455;\n",
              "      fill: #D2E3FC;\n",
              "    }\n",
              "\n",
              "    [theme=dark] .colab-df-convert:hover {\n",
              "      background-color: #434B5C;\n",
              "      box-shadow: 0px 1px 3px 1px rgba(0, 0, 0, 0.15);\n",
              "      filter: drop-shadow(0px 1px 2px rgba(0, 0, 0, 0.3));\n",
              "      fill: #FFFFFF;\n",
              "    }\n",
              "  </style>\n",
              "\n",
              "      <script>\n",
              "        const buttonEl =\n",
              "          document.querySelector('#df-6a624f17-0fde-4e98-8fad-deeb50875a2c button.colab-df-convert');\n",
              "        buttonEl.style.display =\n",
              "          google.colab.kernel.accessAllowed ? 'block' : 'none';\n",
              "\n",
              "        async function convertToInteractive(key) {\n",
              "          const element = document.querySelector('#df-6a624f17-0fde-4e98-8fad-deeb50875a2c');\n",
              "          const dataTable =\n",
              "            await google.colab.kernel.invokeFunction('convertToInteractive',\n",
              "                                                     [key], {});\n",
              "          if (!dataTable) return;\n",
              "\n",
              "          const docLinkHtml = 'Like what you see? Visit the ' +\n",
              "            '<a target=\"_blank\" href=https://colab.research.google.com/notebooks/data_table.ipynb>data table notebook</a>'\n",
              "            + ' to learn more about interactive tables.';\n",
              "          element.innerHTML = '';\n",
              "          dataTable['output_type'] = 'display_data';\n",
              "          await google.colab.output.renderOutput(dataTable, element);\n",
              "          const docLink = document.createElement('div');\n",
              "          docLink.innerHTML = docLinkHtml;\n",
              "          element.appendChild(docLink);\n",
              "        }\n",
              "      </script>\n",
              "    </div>\n",
              "  </div>\n",
              "  "
            ]
          },
          "metadata": {},
          "execution_count": 4
        }
      ],
      "source": [
        "df.describe()"
      ]
    },
    {
      "cell_type": "markdown",
      "source": [
        "We see that the mean of outcome is 0.34 which means that the dataset is imbalanced(outcome '0' and outcome '1' are not in proportion). The F1 score metric becomes especially valuable when working on classification models in which our data set is imbalanced. We will implement it later in this notebook."
      ],
      "metadata": {
        "id": "uc3POQVmIqgF"
      }
    },
    {
      "cell_type": "markdown",
      "metadata": {
        "collapsed": true,
        "id": "GLjejqgk8X_J"
      },
      "source": [
        "## Data preparation(Creating Dummy variables)"
      ]
    },
    {
      "cell_type": "markdown",
      "metadata": {
        "id": "WXPaDrMf8X_J"
      },
      "source": [
        "\n",
        "`pandas` gives us a great deal of control over how categorical variables are represented. Here we'll **dummify** the \"prestige\" column using `get_dummies`.\n",
        "\n",
        "`get_dummies` creates a new `DataFrame` with binary indicator variables for each category / option in the column specified. In this case, `prestige` has four levels: 1 being most prestigious and 4 least. \n",
        "\n",
        "When we call `get_dummies` we get a dataframe with 4 columns of binary values (0 or 1) indicating which level the initial data point belongs to. \n"
      ]
    },
    {
      "cell_type": "code",
      "execution_count": 5,
      "metadata": {
        "id": "lSt7ICQD8X_K",
        "outputId": "8c1058ef-d61e-4502-914f-4ca11ff83fc0",
        "colab": {
          "base_uri": "https://localhost:8080/",
          "height": 206
        }
      },
      "outputs": [
        {
          "output_type": "execute_result",
          "data": {
            "text/plain": [
              "   prestige_1  prestige_2  prestige_3  prestige_4\n",
              "0           0           0           1           0\n",
              "1           0           0           1           0\n",
              "2           1           0           0           0\n",
              "3           0           0           0           1\n",
              "4           0           0           0           1"
            ],
            "text/html": [
              "\n",
              "  <div id=\"df-2af3e5b3-a97f-4415-9866-69062ab3a262\">\n",
              "    <div class=\"colab-df-container\">\n",
              "      <div>\n",
              "<style scoped>\n",
              "    .dataframe tbody tr th:only-of-type {\n",
              "        vertical-align: middle;\n",
              "    }\n",
              "\n",
              "    .dataframe tbody tr th {\n",
              "        vertical-align: top;\n",
              "    }\n",
              "\n",
              "    .dataframe thead th {\n",
              "        text-align: right;\n",
              "    }\n",
              "</style>\n",
              "<table border=\"1\" class=\"dataframe\">\n",
              "  <thead>\n",
              "    <tr style=\"text-align: right;\">\n",
              "      <th></th>\n",
              "      <th>prestige_1</th>\n",
              "      <th>prestige_2</th>\n",
              "      <th>prestige_3</th>\n",
              "      <th>prestige_4</th>\n",
              "    </tr>\n",
              "  </thead>\n",
              "  <tbody>\n",
              "    <tr>\n",
              "      <th>0</th>\n",
              "      <td>0</td>\n",
              "      <td>0</td>\n",
              "      <td>1</td>\n",
              "      <td>0</td>\n",
              "    </tr>\n",
              "    <tr>\n",
              "      <th>1</th>\n",
              "      <td>0</td>\n",
              "      <td>0</td>\n",
              "      <td>1</td>\n",
              "      <td>0</td>\n",
              "    </tr>\n",
              "    <tr>\n",
              "      <th>2</th>\n",
              "      <td>1</td>\n",
              "      <td>0</td>\n",
              "      <td>0</td>\n",
              "      <td>0</td>\n",
              "    </tr>\n",
              "    <tr>\n",
              "      <th>3</th>\n",
              "      <td>0</td>\n",
              "      <td>0</td>\n",
              "      <td>0</td>\n",
              "      <td>1</td>\n",
              "    </tr>\n",
              "    <tr>\n",
              "      <th>4</th>\n",
              "      <td>0</td>\n",
              "      <td>0</td>\n",
              "      <td>0</td>\n",
              "      <td>1</td>\n",
              "    </tr>\n",
              "  </tbody>\n",
              "</table>\n",
              "</div>\n",
              "      <button class=\"colab-df-convert\" onclick=\"convertToInteractive('df-2af3e5b3-a97f-4415-9866-69062ab3a262')\"\n",
              "              title=\"Convert this dataframe to an interactive table.\"\n",
              "              style=\"display:none;\">\n",
              "        \n",
              "  <svg xmlns=\"http://www.w3.org/2000/svg\" height=\"24px\"viewBox=\"0 0 24 24\"\n",
              "       width=\"24px\">\n",
              "    <path d=\"M0 0h24v24H0V0z\" fill=\"none\"/>\n",
              "    <path d=\"M18.56 5.44l.94 2.06.94-2.06 2.06-.94-2.06-.94-.94-2.06-.94 2.06-2.06.94zm-11 1L8.5 8.5l.94-2.06 2.06-.94-2.06-.94L8.5 2.5l-.94 2.06-2.06.94zm10 10l.94 2.06.94-2.06 2.06-.94-2.06-.94-.94-2.06-.94 2.06-2.06.94z\"/><path d=\"M17.41 7.96l-1.37-1.37c-.4-.4-.92-.59-1.43-.59-.52 0-1.04.2-1.43.59L10.3 9.45l-7.72 7.72c-.78.78-.78 2.05 0 2.83L4 21.41c.39.39.9.59 1.41.59.51 0 1.02-.2 1.41-.59l7.78-7.78 2.81-2.81c.8-.78.8-2.07 0-2.86zM5.41 20L4 18.59l7.72-7.72 1.47 1.35L5.41 20z\"/>\n",
              "  </svg>\n",
              "      </button>\n",
              "      \n",
              "  <style>\n",
              "    .colab-df-container {\n",
              "      display:flex;\n",
              "      flex-wrap:wrap;\n",
              "      gap: 12px;\n",
              "    }\n",
              "\n",
              "    .colab-df-convert {\n",
              "      background-color: #E8F0FE;\n",
              "      border: none;\n",
              "      border-radius: 50%;\n",
              "      cursor: pointer;\n",
              "      display: none;\n",
              "      fill: #1967D2;\n",
              "      height: 32px;\n",
              "      padding: 0 0 0 0;\n",
              "      width: 32px;\n",
              "    }\n",
              "\n",
              "    .colab-df-convert:hover {\n",
              "      background-color: #E2EBFA;\n",
              "      box-shadow: 0px 1px 2px rgba(60, 64, 67, 0.3), 0px 1px 3px 1px rgba(60, 64, 67, 0.15);\n",
              "      fill: #174EA6;\n",
              "    }\n",
              "\n",
              "    [theme=dark] .colab-df-convert {\n",
              "      background-color: #3B4455;\n",
              "      fill: #D2E3FC;\n",
              "    }\n",
              "\n",
              "    [theme=dark] .colab-df-convert:hover {\n",
              "      background-color: #434B5C;\n",
              "      box-shadow: 0px 1px 3px 1px rgba(0, 0, 0, 0.15);\n",
              "      filter: drop-shadow(0px 1px 2px rgba(0, 0, 0, 0.3));\n",
              "      fill: #FFFFFF;\n",
              "    }\n",
              "  </style>\n",
              "\n",
              "      <script>\n",
              "        const buttonEl =\n",
              "          document.querySelector('#df-2af3e5b3-a97f-4415-9866-69062ab3a262 button.colab-df-convert');\n",
              "        buttonEl.style.display =\n",
              "          google.colab.kernel.accessAllowed ? 'block' : 'none';\n",
              "\n",
              "        async function convertToInteractive(key) {\n",
              "          const element = document.querySelector('#df-2af3e5b3-a97f-4415-9866-69062ab3a262');\n",
              "          const dataTable =\n",
              "            await google.colab.kernel.invokeFunction('convertToInteractive',\n",
              "                                                     [key], {});\n",
              "          if (!dataTable) return;\n",
              "\n",
              "          const docLinkHtml = 'Like what you see? Visit the ' +\n",
              "            '<a target=\"_blank\" href=https://colab.research.google.com/notebooks/data_table.ipynb>data table notebook</a>'\n",
              "            + ' to learn more about interactive tables.';\n",
              "          element.innerHTML = '';\n",
              "          dataTable['output_type'] = 'display_data';\n",
              "          await google.colab.output.renderOutput(dataTable, element);\n",
              "          const docLink = document.createElement('div');\n",
              "          docLink.innerHTML = docLinkHtml;\n",
              "          element.appendChild(docLink);\n",
              "        }\n",
              "      </script>\n",
              "    </div>\n",
              "  </div>\n",
              "  "
            ]
          },
          "metadata": {},
          "execution_count": 5
        }
      ],
      "source": [
        "dummy_ranks = pd.get_dummies(df['prestige'], prefix = 'prestige')\n",
        "dummy_ranks.head()"
      ]
    },
    {
      "cell_type": "markdown",
      "metadata": {
        "id": "YF4i0A8W8X_K"
      },
      "source": [
        "Create a clean data frame for our logistic regression model later:"
      ]
    },
    {
      "cell_type": "code",
      "execution_count": 6,
      "metadata": {
        "id": "txcI0PvM8X_L",
        "outputId": "7657eb33-ef16-46d9-c03c-008af171b5ab",
        "colab": {
          "base_uri": "https://localhost:8080/",
          "height": 206
        }
      },
      "outputs": [
        {
          "output_type": "execute_result",
          "data": {
            "text/plain": [
              "   admit  gre   gpa  prestige_2  prestige_3  prestige_4\n",
              "0      0  380  3.61           0           1           0\n",
              "1      1  660  3.67           0           1           0\n",
              "2      1  800  4.00           0           0           0\n",
              "3      1  640  3.19           0           0           1\n",
              "4      0  520  2.93           0           0           1"
            ],
            "text/html": [
              "\n",
              "  <div id=\"df-29c09861-e0fa-406a-8ab8-76b2278330b7\">\n",
              "    <div class=\"colab-df-container\">\n",
              "      <div>\n",
              "<style scoped>\n",
              "    .dataframe tbody tr th:only-of-type {\n",
              "        vertical-align: middle;\n",
              "    }\n",
              "\n",
              "    .dataframe tbody tr th {\n",
              "        vertical-align: top;\n",
              "    }\n",
              "\n",
              "    .dataframe thead th {\n",
              "        text-align: right;\n",
              "    }\n",
              "</style>\n",
              "<table border=\"1\" class=\"dataframe\">\n",
              "  <thead>\n",
              "    <tr style=\"text-align: right;\">\n",
              "      <th></th>\n",
              "      <th>admit</th>\n",
              "      <th>gre</th>\n",
              "      <th>gpa</th>\n",
              "      <th>prestige_2</th>\n",
              "      <th>prestige_3</th>\n",
              "      <th>prestige_4</th>\n",
              "    </tr>\n",
              "  </thead>\n",
              "  <tbody>\n",
              "    <tr>\n",
              "      <th>0</th>\n",
              "      <td>0</td>\n",
              "      <td>380</td>\n",
              "      <td>3.61</td>\n",
              "      <td>0</td>\n",
              "      <td>1</td>\n",
              "      <td>0</td>\n",
              "    </tr>\n",
              "    <tr>\n",
              "      <th>1</th>\n",
              "      <td>1</td>\n",
              "      <td>660</td>\n",
              "      <td>3.67</td>\n",
              "      <td>0</td>\n",
              "      <td>1</td>\n",
              "      <td>0</td>\n",
              "    </tr>\n",
              "    <tr>\n",
              "      <th>2</th>\n",
              "      <td>1</td>\n",
              "      <td>800</td>\n",
              "      <td>4.00</td>\n",
              "      <td>0</td>\n",
              "      <td>0</td>\n",
              "      <td>0</td>\n",
              "    </tr>\n",
              "    <tr>\n",
              "      <th>3</th>\n",
              "      <td>1</td>\n",
              "      <td>640</td>\n",
              "      <td>3.19</td>\n",
              "      <td>0</td>\n",
              "      <td>0</td>\n",
              "      <td>1</td>\n",
              "    </tr>\n",
              "    <tr>\n",
              "      <th>4</th>\n",
              "      <td>0</td>\n",
              "      <td>520</td>\n",
              "      <td>2.93</td>\n",
              "      <td>0</td>\n",
              "      <td>0</td>\n",
              "      <td>1</td>\n",
              "    </tr>\n",
              "  </tbody>\n",
              "</table>\n",
              "</div>\n",
              "      <button class=\"colab-df-convert\" onclick=\"convertToInteractive('df-29c09861-e0fa-406a-8ab8-76b2278330b7')\"\n",
              "              title=\"Convert this dataframe to an interactive table.\"\n",
              "              style=\"display:none;\">\n",
              "        \n",
              "  <svg xmlns=\"http://www.w3.org/2000/svg\" height=\"24px\"viewBox=\"0 0 24 24\"\n",
              "       width=\"24px\">\n",
              "    <path d=\"M0 0h24v24H0V0z\" fill=\"none\"/>\n",
              "    <path d=\"M18.56 5.44l.94 2.06.94-2.06 2.06-.94-2.06-.94-.94-2.06-.94 2.06-2.06.94zm-11 1L8.5 8.5l.94-2.06 2.06-.94-2.06-.94L8.5 2.5l-.94 2.06-2.06.94zm10 10l.94 2.06.94-2.06 2.06-.94-2.06-.94-.94-2.06-.94 2.06-2.06.94z\"/><path d=\"M17.41 7.96l-1.37-1.37c-.4-.4-.92-.59-1.43-.59-.52 0-1.04.2-1.43.59L10.3 9.45l-7.72 7.72c-.78.78-.78 2.05 0 2.83L4 21.41c.39.39.9.59 1.41.59.51 0 1.02-.2 1.41-.59l7.78-7.78 2.81-2.81c.8-.78.8-2.07 0-2.86zM5.41 20L4 18.59l7.72-7.72 1.47 1.35L5.41 20z\"/>\n",
              "  </svg>\n",
              "      </button>\n",
              "      \n",
              "  <style>\n",
              "    .colab-df-container {\n",
              "      display:flex;\n",
              "      flex-wrap:wrap;\n",
              "      gap: 12px;\n",
              "    }\n",
              "\n",
              "    .colab-df-convert {\n",
              "      background-color: #E8F0FE;\n",
              "      border: none;\n",
              "      border-radius: 50%;\n",
              "      cursor: pointer;\n",
              "      display: none;\n",
              "      fill: #1967D2;\n",
              "      height: 32px;\n",
              "      padding: 0 0 0 0;\n",
              "      width: 32px;\n",
              "    }\n",
              "\n",
              "    .colab-df-convert:hover {\n",
              "      background-color: #E2EBFA;\n",
              "      box-shadow: 0px 1px 2px rgba(60, 64, 67, 0.3), 0px 1px 3px 1px rgba(60, 64, 67, 0.15);\n",
              "      fill: #174EA6;\n",
              "    }\n",
              "\n",
              "    [theme=dark] .colab-df-convert {\n",
              "      background-color: #3B4455;\n",
              "      fill: #D2E3FC;\n",
              "    }\n",
              "\n",
              "    [theme=dark] .colab-df-convert:hover {\n",
              "      background-color: #434B5C;\n",
              "      box-shadow: 0px 1px 3px 1px rgba(0, 0, 0, 0.15);\n",
              "      filter: drop-shadow(0px 1px 2px rgba(0, 0, 0, 0.3));\n",
              "      fill: #FFFFFF;\n",
              "    }\n",
              "  </style>\n",
              "\n",
              "      <script>\n",
              "        const buttonEl =\n",
              "          document.querySelector('#df-29c09861-e0fa-406a-8ab8-76b2278330b7 button.colab-df-convert');\n",
              "        buttonEl.style.display =\n",
              "          google.colab.kernel.accessAllowed ? 'block' : 'none';\n",
              "\n",
              "        async function convertToInteractive(key) {\n",
              "          const element = document.querySelector('#df-29c09861-e0fa-406a-8ab8-76b2278330b7');\n",
              "          const dataTable =\n",
              "            await google.colab.kernel.invokeFunction('convertToInteractive',\n",
              "                                                     [key], {});\n",
              "          if (!dataTable) return;\n",
              "\n",
              "          const docLinkHtml = 'Like what you see? Visit the ' +\n",
              "            '<a target=\"_blank\" href=https://colab.research.google.com/notebooks/data_table.ipynb>data table notebook</a>'\n",
              "            + ' to learn more about interactive tables.';\n",
              "          element.innerHTML = '';\n",
              "          dataTable['output_type'] = 'display_data';\n",
              "          await google.colab.output.renderOutput(dataTable, element);\n",
              "          const docLink = document.createElement('div');\n",
              "          docLink.innerHTML = docLinkHtml;\n",
              "          element.appendChild(docLink);\n",
              "        }\n",
              "      </script>\n",
              "    </div>\n",
              "  </div>\n",
              "  "
            ]
          },
          "metadata": {},
          "execution_count": 6
        }
      ],
      "source": [
        "cols_to_keep = ['admit', 'gre', 'gpa']\n",
        "\n",
        "# use .join to combine the columns \n",
        "# df[[ col2, col4 ]] allows us to subset columns 2 and 4\n",
        "data = df[cols_to_keep].join(dummy_ranks[['prestige_2', 'prestige_3', 'prestige_4']])\n",
        "data.head()"
      ]
    },
    {
      "cell_type": "markdown",
      "metadata": {
        "id": "nratbqKi8X_L"
      },
      "source": [
        "Notice how we did not include `prestige_1`, that is because the lack of any `1` between prestige 2 to 4 would indicate a level of `prestige_1`. When we treat `prestige_1` as our baseline and exclude it from our fit we also prevent multicollinearity, or the dummy variable trap which is a result of including a dummy variable for every single category."
      ]
    },
    {
      "cell_type": "markdown",
      "source": [
        "##Splitting the data into training and test set using Twinning technique"
      ],
      "metadata": {
        "id": "a1ozn82rD-12"
      }
    },
    {
      "cell_type": "markdown",
      "source": [
        "Twinning technique partitions datasets into statistically similar disjoint sets, termed as twins.\n",
        "\n",
        "Let's install the twinning package"
      ],
      "metadata": {
        "id": "WeY5SE-bExXo"
      }
    },
    {
      "cell_type": "code",
      "source": [
        "pip install git+https://github.com/avkl/twinning.git"
      ],
      "metadata": {
        "id": "j1AnvGIlE0KE"
      },
      "execution_count": null,
      "outputs": []
    },
    {
      "cell_type": "code",
      "source": [
        "from twinning import twin"
      ],
      "metadata": {
        "id": "6ok8Lmn1FBqM"
      },
      "execution_count": 8,
      "outputs": []
    },
    {
      "cell_type": "markdown",
      "source": [
        "The following code generates an 80-20 partition of the dataset. twin() accepts a numpy ndarray as the dataset, and an integer parameter r representing the inverse of the partitioning ratio, i.e., for an 80-20 split, r = 1 / 0.2 = 5. The function returns indices of the smaller twin."
      ],
      "metadata": {
        "id": "YYZzA-NxFGgy"
      }
    },
    {
      "cell_type": "code",
      "source": [
        "twin_idx = twin(data.to_numpy(), r=5)"
      ],
      "metadata": {
        "id": "BUmRJoE3FNTr"
      },
      "execution_count": 25,
      "outputs": []
    },
    {
      "cell_type": "code",
      "source": [
        "twin_idx"
      ],
      "metadata": {
        "colab": {
          "base_uri": "https://localhost:8080/"
        },
        "id": "HZPXBnd8FYAv",
        "outputId": "10dab799-4ded-43af-eb5f-9fd55e8866e3"
      },
      "execution_count": 28,
      "outputs": [
        {
          "output_type": "execute_result",
          "data": {
            "text/plain": [
              "array([116, 327, 290, 201, 190, 390, 268, 391,  89, 370, 241,  79,  26,\n",
              "       364, 148, 316, 247, 232,  97, 298, 387, 138, 158, 326,  13, 160,\n",
              "       308,  93, 163, 240,  65,  73, 292,   9, 185, 149, 113,  29, 332,\n",
              "       366, 122, 396,  20, 271, 153, 169, 249, 399, 221, 114, 331,  54,\n",
              "       196, 245, 165, 103, 170,  99, 108, 304,  83,  47, 283, 230, 314,\n",
              "       111, 342, 282, 210,  16, 141,  27,  59, 289, 242, 301, 263,  12,\n",
              "       234, 237], dtype=uint64)"
            ]
          },
          "metadata": {},
          "execution_count": 28
        }
      ]
    },
    {
      "cell_type": "markdown",
      "source": [
        "Creating a dataframe by dropping indices in twin_idx to create bigger twin which will be used to train the model"
      ],
      "metadata": {
        "id": "AKeIxgx3Fwhc"
      }
    },
    {
      "cell_type": "code",
      "source": [
        "data_train=data.drop(data.index[[116, 327, 290, 201, 190, 390, 268, 391,  89, 370, 241,  79,  26,\n",
        "       364, 148, 316, 247, 232,  97, 298, 387, 138, 158, 326,  13, 160,\n",
        "       308,  93, 163, 240,  65,  73, 292,   9, 185, 149, 113,  29, 332,\n",
        "       366, 122, 396,  20, 271, 153, 169, 249, 399, 221, 114, 331,  54,\n",
        "       196, 245, 165, 103, 170,  99, 108, 304,  83,  47, 283, 230, 314,\n",
        "       111, 342, 282, 210,  16, 141,  27,  59, 289, 242, 301, 263,  12,\n",
        "       234, 237]])"
      ],
      "metadata": {
        "id": "iYAOd74lFz7l"
      },
      "execution_count": 29,
      "outputs": []
    },
    {
      "cell_type": "markdown",
      "source": [
        "Splitting the data into train and test set"
      ],
      "metadata": {
        "id": "mC1rMeQaGV9M"
      }
    },
    {
      "cell_type": "code",
      "source": [
        "X_train = data_train.iloc[:, :-1].values\n",
        "Y_train = data_train.iloc[:, -1].values\n",
        "X_test = data.iloc[[116, 327, 290, 201, 190, 390, 268, 391,  89, 370, 241,  79,  26,\n",
        "       364, 148, 316, 247, 232,  97, 298, 387, 138, 158, 326,  13, 160,\n",
        "       308,  93, 163, 240,  65,  73, 292,   9, 185, 149, 113,  29, 332,\n",
        "       366, 122, 396,  20, 271, 153, 169, 249, 399, 221, 114, 331,  54,\n",
        "       196, 245, 165, 103, 170,  99, 108, 304,  83,  47, 283, 230, 314,\n",
        "       111, 342, 282, 210,  16, 141,  27,  59, 289, 242, 301, 263,  12,\n",
        "       234, 237], :-1].values\n",
        "Y_test = data.iloc[[116, 327, 290, 201, 190, 390, 268, 391,  89, 370, 241,  79,  26,\n",
        "       364, 148, 316, 247, 232,  97, 298, 387, 138, 158, 326,  13, 160,\n",
        "       308,  93, 163, 240,  65,  73, 292,   9, 185, 149, 113,  29, 332,\n",
        "       366, 122, 396,  20, 271, 153, 169, 249, 399, 221, 114, 331,  54,\n",
        "       196, 245, 165, 103, 170,  99, 108, 304,  83,  47, 283, 230, 314,\n",
        "       111, 342, 282, 210,  16, 141,  27,  59, 289, 242, 301, 263,  12,\n",
        "       234, 237], -1].values       "
      ],
      "metadata": {
        "id": "XGFEpHJVGUmd"
      },
      "execution_count": 30,
      "outputs": []
    },
    {
      "cell_type": "markdown",
      "metadata": {
        "id": "IwplADIO8X_M"
      },
      "source": [
        "## Fitting a model using Logistic Regression"
      ]
    },
    {
      "cell_type": "markdown",
      "metadata": {
        "id": "ypUs3Otb8X_N"
      },
      "source": [
        "Recall that we are predicting the `admit` column using `gre`, `gpa` and the prestige dummy variables 2 through 4. "
      ]
    },
    {
      "cell_type": "code",
      "source": [
        "model = LogisticRegression()\n",
        "model.fit(X_train, Y_train)"
      ],
      "metadata": {
        "id": "8hmTbqXiNWrX"
      },
      "execution_count": null,
      "outputs": []
    },
    {
      "cell_type": "markdown",
      "source": [
        "## Using the model to predict `admit` using test dataset\n",
        "\n",
        "\n"
      ],
      "metadata": {
        "id": "PMyjXouuW1il"
      }
    },
    {
      "cell_type": "code",
      "source": [
        "Y_pred = model.predict(X_test)"
      ],
      "metadata": {
        "id": "75UkHWgqOORU"
      },
      "execution_count": 32,
      "outputs": []
    },
    {
      "cell_type": "markdown",
      "source": [
        "## Model evaluation and accuracy"
      ],
      "metadata": {
        "id": "na-V01QIXCOG"
      }
    },
    {
      "cell_type": "markdown",
      "source": [
        "Since our dataset is imbalanced, we use F1 score as our performance metric"
      ],
      "metadata": {
        "id": "rKowZNASXOFM"
      }
    },
    {
      "cell_type": "markdown",
      "source": [
        "The F1 score can be interpreted as a harmonic mean of the precision and recall, where an F1 score reaches its best value at 1 and worst score at 0"
      ],
      "metadata": {
        "id": "-ayTTtuTXMuD"
      }
    },
    {
      "cell_type": "code",
      "source": [
        "confusion_matrix(Y_test, Y_pred)"
      ],
      "metadata": {
        "colab": {
          "base_uri": "https://localhost:8080/"
        },
        "id": "V0KfuFRPOba8",
        "outputId": "8c3a917f-e416-46b6-9502-8a9965a7f782"
      },
      "execution_count": 33,
      "outputs": [
        {
          "output_type": "execute_result",
          "data": {
            "text/plain": [
              "array([[63,  3],\n",
              "       [ 5,  9]])"
            ]
          },
          "metadata": {},
          "execution_count": 33
        }
      ]
    },
    {
      "cell_type": "code",
      "source": [
        "print(classification_report(Y_test, Y_pred))"
      ],
      "metadata": {
        "colab": {
          "base_uri": "https://localhost:8080/"
        },
        "id": "nBBnnVL2On8M",
        "outputId": "43fc299b-67a0-44a1-ee5a-8b6ce6863eae"
      },
      "execution_count": 34,
      "outputs": [
        {
          "output_type": "stream",
          "name": "stdout",
          "text": [
            "              precision    recall  f1-score   support\n",
            "\n",
            "           0       0.93      0.95      0.94        66\n",
            "           1       0.75      0.64      0.69        14\n",
            "\n",
            "    accuracy                           0.90        80\n",
            "   macro avg       0.84      0.80      0.82        80\n",
            "weighted avg       0.90      0.90      0.90        80\n",
            "\n"
          ]
        }
      ]
    },
    {
      "cell_type": "markdown",
      "source": [
        "Computing the F1 score"
      ],
      "metadata": {
        "id": "HIDGSaDnXb8M"
      }
    },
    {
      "cell_type": "markdown",
      "source": [
        " We use  `average = 'weighted'`.This accounts for label imbalance"
      ],
      "metadata": {
        "id": "ba-rXw2WXhll"
      }
    },
    {
      "cell_type": "code",
      "source": [
        " f1_score(Y_test, Y_pred, average='weighted')"
      ],
      "metadata": {
        "colab": {
          "base_uri": "https://localhost:8080/"
        },
        "id": "qhLoU7BfO0Kt",
        "outputId": "04c217b3-8fba-42c6-c3f1-2461b49d9392"
      },
      "execution_count": 36,
      "outputs": [
        {
          "output_type": "execute_result",
          "data": {
            "text/plain": [
              "0.8969001148105626"
            ]
          },
          "metadata": {},
          "execution_count": 36
        }
      ]
    },
    {
      "cell_type": "markdown",
      "source": [
        "Our overall accuracy is 89%"
      ],
      "metadata": {
        "id": "Z4qmU7poY1YN"
      }
    }
  ],
  "metadata": {
    "kernelspec": {
      "display_name": "Python 3",
      "language": "python",
      "name": "python3"
    },
    "language_info": {
      "codemirror_mode": {
        "name": "ipython",
        "version": 3
      },
      "file_extension": ".py",
      "mimetype": "text/x-python",
      "name": "python",
      "nbconvert_exporter": "python",
      "pygments_lexer": "ipython3",
      "version": "3.5.2"
    },
    "colab": {
      "provenance": []
    }
  },
  "nbformat": 4,
  "nbformat_minor": 0
}